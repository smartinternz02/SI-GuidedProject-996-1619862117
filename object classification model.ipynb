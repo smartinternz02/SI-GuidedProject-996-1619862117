{
 "cells": [
  {
   "cell_type": "code",
   "execution_count": 33,
   "metadata": {},
   "outputs": [],
   "source": [
    "from tensorflow.keras.models import Sequential\n",
    "from tensorflow.keras.layers import Dense\n",
    "from tensorflow.keras.layers import Convolution2D\n",
    "from tensorflow.keras.layers import MaxPooling2D\n",
    "from tensorflow.keras.layers import Flatten"
   ]
  },
  {
   "cell_type": "code",
   "execution_count": 34,
   "metadata": {},
   "outputs": [],
   "source": [
    "from keras.preprocessing.image import ImageDataGenerator\n",
    "train_datagen=ImageDataGenerator(rescale=1./225,shear_range=0.2,zoom_range=0.2,horizontal_flip=True)\n",
    "test_datagen=ImageDataGenerator(rescale=1./225)"
   ]
  },
  {
   "cell_type": "code",
   "execution_count": 35,
   "metadata": {},
   "outputs": [
    {
     "name": "stdout",
     "output_type": "stream",
     "text": [
      "Found 36 images belonging to 4 classes.\n",
      "Found 18 images belonging to 4 classes.\n"
     ]
    }
   ],
   "source": [
    "x_train=train_datagen.flow_from_directory(r\"C:\\Users\\GOPAGONI HARIKA\\Desktop\\school\\trainset\",target_size=(64,64),batch_size=32,class_mode=\"categorical\")\n",
    "x_test=test_datagen.flow_from_directory(r\"C:\\Users\\GOPAGONI HARIKA\\Desktop\\school\\testset\",target_size=(64,64),batch_size=32,class_mode=\"categorical\")\n"
   ]
  },
  {
   "cell_type": "code",
   "execution_count": 36,
   "metadata": {},
   "outputs": [],
   "source": [
    "model = Sequential()"
   ]
  },
  {
   "cell_type": "code",
   "execution_count": 37,
   "metadata": {},
   "outputs": [],
   "source": [
    "model.add(Convolution2D(32,(3,3),input_shape=(64,64,3),activation=\"relu\"))"
   ]
  },
  {
   "cell_type": "code",
   "execution_count": 38,
   "metadata": {},
   "outputs": [],
   "source": [
    "model.add(MaxPooling2D(2,2))"
   ]
  },
  {
   "cell_type": "code",
   "execution_count": 39,
   "metadata": {},
   "outputs": [],
   "source": [
    "model.add(Flatten())"
   ]
  },
  {
   "cell_type": "code",
   "execution_count": 40,
   "metadata": {},
   "outputs": [],
   "source": [
    "model.add(Dense(units = 512,activation=\"relu\",kernel_initializer=\"random_uniform\"))"
   ]
  },
  {
   "cell_type": "code",
   "execution_count": 41,
   "metadata": {},
   "outputs": [],
   "source": [
    "model.add(Dense(units = 4,activation=\"softmax\",kernel_initializer=\"random_uniform\"))"
   ]
  },
  {
   "cell_type": "code",
   "execution_count": 42,
   "metadata": {},
   "outputs": [],
   "source": [
    "model.compile(\"sgd\",loss=\"categorical_crossentropy\",metrics=[\"accuracy\"])"
   ]
  },
  {
   "cell_type": "code",
   "execution_count": 47,
   "metadata": {},
   "outputs": [
    {
     "name": "stdout",
     "output_type": "stream",
     "text": [
      "Epoch 1/25\n",
      "1/1 [==============================] - 3s 3s/step - loss: 0.7103 - acc: 0.8438 - val_loss: 1.1107 - val_acc: 0.5000\n",
      "Epoch 2/25\n",
      "1/1 [==============================] - 2s 2s/step - loss: 0.6818 - acc: 1.0000 - val_loss: 1.3359 - val_acc: 0.3333\n",
      "Epoch 3/25\n",
      "1/1 [==============================] - 1s 1s/step - loss: 1.1231 - acc: 0.5000 - val_loss: 1.3481 - val_acc: 0.3333\n",
      "Epoch 4/25\n",
      "1/1 [==============================] - 2s 2s/step - loss: 1.0433 - acc: 0.5312 - val_loss: 1.1139 - val_acc: 0.5000\n",
      "Epoch 5/25\n",
      "1/1 [==============================] - 2s 2s/step - loss: 1.0436 - acc: 0.5000 - val_loss: 1.7173 - val_acc: 0.2778\n",
      "Epoch 6/25\n",
      "1/1 [==============================] - 2s 2s/step - loss: 1.2214 - acc: 0.4375 - val_loss: 1.1295 - val_acc: 0.4444\n",
      "Epoch 7/25\n",
      "1/1 [==============================] - 2s 2s/step - loss: 0.7332 - acc: 0.7812 - val_loss: 1.1387 - val_acc: 0.5556\n",
      "Epoch 8/25\n",
      "1/1 [==============================] - 2s 2s/step - loss: 0.7106 - acc: 0.7500 - val_loss: 1.2623 - val_acc: 0.4444\n",
      "Epoch 9/25\n",
      "1/1 [==============================] - 2s 2s/step - loss: 0.7284 - acc: 0.7812 - val_loss: 1.1367 - val_acc: 0.5556\n",
      "Epoch 10/25\n",
      "1/1 [==============================] - 2s 2s/step - loss: 0.4971 - acc: 0.7500 - val_loss: 1.1376 - val_acc: 0.4444\n",
      "Epoch 11/25\n",
      "1/1 [==============================] - 2s 2s/step - loss: 0.5820 - acc: 0.8750 - val_loss: 1.0731 - val_acc: 0.5000\n",
      "Epoch 12/25\n",
      "1/1 [==============================] - 2s 2s/step - loss: 1.2838 - acc: 0.5000 - val_loss: 1.9751 - val_acc: 0.2222\n",
      "Epoch 13/25\n",
      "1/1 [==============================] - 1s 1s/step - loss: 1.5134 - acc: 0.2500 - val_loss: 1.3721 - val_acc: 0.4444\n",
      "Epoch 14/25\n",
      "1/1 [==============================] - 2s 2s/step - loss: 1.0580 - acc: 0.4062 - val_loss: 1.1109 - val_acc: 0.6111\n",
      "Epoch 15/25\n",
      "1/1 [==============================] - 2s 2s/step - loss: 0.6949 - acc: 0.8750 - val_loss: 1.1215 - val_acc: 0.5556\n",
      "Epoch 16/25\n",
      "1/1 [==============================] - 2s 2s/step - loss: 0.7296 - acc: 0.7500 - val_loss: 1.1270 - val_acc: 0.6111\n",
      "Epoch 17/25\n",
      "1/1 [==============================] - 2s 2s/step - loss: 1.3503 - acc: 0.5000 - val_loss: 1.8629 - val_acc: 0.2778\n",
      "Epoch 18/25\n",
      "1/1 [==============================] - 2s 2s/step - loss: 0.9947 - acc: 0.5938 - val_loss: 1.1982 - val_acc: 0.5556\n",
      "Epoch 19/25\n",
      "1/1 [==============================] - 2s 2s/step - loss: 0.9382 - acc: 0.7500 - val_loss: 1.1304 - val_acc: 0.5000\n",
      "Epoch 20/25\n",
      "1/1 [==============================] - 2s 2s/step - loss: 0.9527 - acc: 0.5938 - val_loss: 1.1092 - val_acc: 0.5000\n",
      "Epoch 21/25\n",
      "1/1 [==============================] - 2s 2s/step - loss: 0.6363 - acc: 0.9062 - val_loss: 1.1166 - val_acc: 0.6111\n",
      "Epoch 22/25\n",
      "1/1 [==============================] - 2s 2s/step - loss: 0.7280 - acc: 0.7500 - val_loss: 1.2116 - val_acc: 0.5000\n",
      "Epoch 23/25\n",
      "1/1 [==============================] - 2s 2s/step - loss: 0.6452 - acc: 0.8125 - val_loss: 1.0918 - val_acc: 0.6111\n",
      "Epoch 24/25\n",
      "1/1 [==============================] - 2s 2s/step - loss: 0.6731 - acc: 0.7500 - val_loss: 1.2879 - val_acc: 0.5000\n",
      "Epoch 25/25\n",
      "1/1 [==============================] - 2s 2s/step - loss: 0.7514 - acc: 0.6875 - val_loss: 1.1318 - val_acc: 0.5556\n"
     ]
    },
    {
     "data": {
      "text/plain": [
       "<tensorflow.python.keras.callbacks.History at 0x2216dc634e0>"
      ]
     },
     "execution_count": 47,
     "metadata": {},
     "output_type": "execute_result"
    }
   ],
   "source": [
    "model.fit_generator(x_train,steps_per_epoch = 1,epochs=25,validation_data=x_test,validation_steps=5)"
   ]
  },
  {
   "cell_type": "code",
   "execution_count": 44,
   "metadata": {},
   "outputs": [
    {
     "data": {
      "text/plain": [
       "1.125"
      ]
     },
     "execution_count": 44,
     "metadata": {},
     "output_type": "execute_result"
    }
   ],
   "source": [
    "36/32\n"
   ]
  },
  {
   "cell_type": "code",
   "execution_count": 45,
   "metadata": {},
   "outputs": [
    {
     "data": {
      "text/plain": [
       "0.34375"
      ]
     },
     "execution_count": 45,
     "metadata": {},
     "output_type": "execute_result"
    }
   ],
   "source": [
    "11/32"
   ]
  },
  {
   "cell_type": "code",
   "execution_count": 48,
   "metadata": {},
   "outputs": [],
   "source": [
    "model.save(\"school.h5\")"
   ]
  },
  {
   "cell_type": "code",
   "execution_count": 49,
   "metadata": {},
   "outputs": [
    {
     "data": {
      "text/plain": [
       "'D:\\\\geethanjaliexternship'"
      ]
     },
     "execution_count": 49,
     "metadata": {},
     "output_type": "execute_result"
    }
   ],
   "source": [
    "pwd"
   ]
  },
  {
   "cell_type": "code",
   "execution_count": 50,
   "metadata": {},
   "outputs": [],
   "source": [
    "from tensorflow.keras.models import load_model\n",
    "from tensorflow.keras.preprocessing import image\n",
    "import cv2\n",
    "import numpy as np"
   ]
  },
  {
   "cell_type": "code",
   "execution_count": 51,
   "metadata": {},
   "outputs": [],
   "source": [
    "index=[\"benches\",\"pens\",\"books\",\"chairs\"]"
   ]
  },
  {
   "cell_type": "code",
   "execution_count": 53,
   "metadata": {},
   "outputs": [
    {
     "name": "stdout",
     "output_type": "stream",
     "text": [
      "WARNING:tensorflow:From C:\\Users\\GOPAGONI HARIKA\\Anaconda3\\lib\\site-packages\\tensorflow\\python\\ops\\init_ops.py:97: calling GlorotUniform.__init__ (from tensorflow.python.ops.init_ops) with dtype is deprecated and will be removed in a future version.\n",
      "Instructions for updating:\n",
      "Call initializer instance with the dtype argument instead of passing it to the constructor\n",
      "WARNING:tensorflow:From C:\\Users\\GOPAGONI HARIKA\\Anaconda3\\lib\\site-packages\\tensorflow\\python\\ops\\init_ops.py:97: calling Zeros.__init__ (from tensorflow.python.ops.init_ops) with dtype is deprecated and will be removed in a future version.\n",
      "Instructions for updating:\n",
      "Call initializer instance with the dtype argument instead of passing it to the constructor\n"
     ]
    }
   ],
   "source": [
    "model=load_model(\"school.h5\")"
   ]
  },
  {
   "cell_type": "code",
   "execution_count": 65,
   "metadata": {},
   "outputs": [],
   "source": [
    "img=image.load_img(\"book.jpg\",target_size=(64,64))"
   ]
  },
  {
   "cell_type": "code",
   "execution_count": 66,
   "metadata": {},
   "outputs": [
    {
     "data": {
      "text/plain": [
       "PIL.Image.Image"
      ]
     },
     "execution_count": 66,
     "metadata": {},
     "output_type": "execute_result"
    }
   ],
   "source": [
    "type(img)"
   ]
  },
  {
   "cell_type": "code",
   "execution_count": 67,
   "metadata": {},
   "outputs": [],
   "source": [
    "x=image.img_to_array(img)"
   ]
  },
  {
   "cell_type": "code",
   "execution_count": 68,
   "metadata": {},
   "outputs": [
    {
     "data": {
      "text/plain": [
       "numpy.ndarray"
      ]
     },
     "execution_count": 68,
     "metadata": {},
     "output_type": "execute_result"
    }
   ],
   "source": [
    "type(x)"
   ]
  },
  {
   "cell_type": "code",
   "execution_count": 69,
   "metadata": {},
   "outputs": [
    {
     "data": {
      "text/plain": [
       "(64, 64, 3)"
      ]
     },
     "execution_count": 69,
     "metadata": {},
     "output_type": "execute_result"
    }
   ],
   "source": [
    "x.shape"
   ]
  },
  {
   "cell_type": "code",
   "execution_count": 70,
   "metadata": {},
   "outputs": [],
   "source": [
    "x=np.expand_dims(x,axis=0)"
   ]
  },
  {
   "cell_type": "code",
   "execution_count": 71,
   "metadata": {},
   "outputs": [
    {
     "data": {
      "text/plain": [
       "(1, 64, 64, 3)"
      ]
     },
     "execution_count": 71,
     "metadata": {},
     "output_type": "execute_result"
    }
   ],
   "source": [
    "x.shape"
   ]
  },
  {
   "cell_type": "code",
   "execution_count": 72,
   "metadata": {},
   "outputs": [],
   "source": [
    "pred=model.predict_classes(x)"
   ]
  },
  {
   "cell_type": "code",
   "execution_count": 73,
   "metadata": {},
   "outputs": [
    {
     "data": {
      "text/plain": [
       "2"
      ]
     },
     "execution_count": 73,
     "metadata": {},
     "output_type": "execute_result"
    }
   ],
   "source": [
    "pred[0]"
   ]
  },
  {
   "cell_type": "code",
   "execution_count": 74,
   "metadata": {},
   "outputs": [
    {
     "name": "stdout",
     "output_type": "stream",
     "text": [
      "books\n"
     ]
    }
   ],
   "source": [
    "print(index[pred[0]])"
   ]
  },
  {
   "cell_type": "code",
   "execution_count": null,
   "metadata": {},
   "outputs": [],
   "source": []
  }
 ],
 "metadata": {
  "kernelspec": {
   "display_name": "Python 3",
   "language": "python",
   "name": "python3"
  },
  "language_info": {
   "codemirror_mode": {
    "name": "ipython",
    "version": 3
   },
   "file_extension": ".py",
   "mimetype": "text/x-python",
   "name": "python",
   "nbconvert_exporter": "python",
   "pygments_lexer": "ipython3",
   "version": "3.7.3"
  }
 },
 "nbformat": 4,
 "nbformat_minor": 2
}
